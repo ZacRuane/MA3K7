{
 "cells": [
  {
   "cell_type": "code",
   "execution_count": 1,
   "id": "ba81aa97",
   "metadata": {},
   "outputs": [
    {
     "name": "stdout",
     "output_type": "stream",
     "text": [
      "There are 6 unique bracelets possible:\n",
      "Length 1: [0, 0]\n",
      "Length 3: [0, 5, 5]\n",
      "Length 4: [2, 6, 8, 4]\n",
      "Length 12: [1, 3, 4, 7, 1, 8, 9, 7, 6, 3, 9, 2]\n",
      "Length 20: [0, 2, 2, 4, 6, 0, 6, 6, 2, 8, 0, 8, 8, 6, 4, 0, 4, 4, 8, 2]\n",
      "Length 60: [0, 1, 1, 2, 3, 5, 8, 3, 1, 4, 5, 9, 4, 3, 7, 0, 7, 7, 4, 1, 5, 6, 1, 7, 8, 5, 3, 8, 1, 9, 0, 9, 9, 8, 7, 5, 2, 7, 9, 6, 5, 1, 6, 7, 3, 0, 3, 3, 6, 9, 5, 4, 9, 3, 2, 5, 7, 2, 9, 1]\n"
     ]
    }
   ],
   "source": [
    "def generate_bracelet(x1, x2):\n",
    "    bracelet = [x1, x2]\n",
    "    checked = {(x1, x2)}\n",
    "    while True:\n",
    "        next_number = (bracelet[-1] + bracelet[-2]) % 10\n",
    "        if (bracelet[-1], next_number) in checked:\n",
    "            break\n",
    "        checked.add((bracelet[-1], next_number))\n",
    "        bracelet.append(next_number)\n",
    "    return bracelet\n",
    "\n",
    "def rotation_check(new_bracelet, current_bracelet):\n",
    "    n = len(current_bracelet)\n",
    "    for i in range(n):\n",
    "        rotation = current_bracelet[i:i + n]\n",
    "        if set(new_bracelet).issubset(set(rotation)):\n",
    "            return True\n",
    "    return False\n",
    "\n",
    "def find_unique_bracelets():\n",
    "    unique_bracelets = []\n",
    "    for x1 in range(10):\n",
    "        for x2 in range(10):\n",
    "            bracelet = generate_bracelet(x1, x2)\n",
    "            new_bracelet = True\n",
    "            for current in unique_bracelets:\n",
    "                if len(current) == len(bracelet) and rotation_check(bracelet, current) == True:\n",
    "                    new_bracelet = False\n",
    "                    break\n",
    "            if new_bracelet == True:\n",
    "                unique_bracelets.append(bracelet)\n",
    "    \n",
    "    unique_bracelets.sort(key=lambda x: (len(x), x))\n",
    "    return unique_bracelets\n",
    "\n",
    "bracelets = find_unique_bracelets()\n",
    "print(f\"There are {len(bracelets)} unique bracelets possible:\")\n",
    "\n",
    "for bracelet in bracelets:\n",
    "    length = len(bracelet)\n",
    "    if length == 2:\n",
    "        print(f\"Length {1}: {bracelet}\")\n",
    "    else:\n",
    "        if bracelet[0] == bracelet[length-1]:\n",
    "            del bracelet[length-1]\n",
    "        print(f\"Length {length-1}: {bracelet}\")"
   ]
  },
  {
   "cell_type": "code",
   "execution_count": null,
   "id": "d47ad48f",
   "metadata": {},
   "outputs": [],
   "source": []
  }
 ],
 "metadata": {
  "kernelspec": {
   "display_name": "Python 3 (ipykernel)",
   "language": "python",
   "name": "python3"
  },
  "language_info": {
   "codemirror_mode": {
    "name": "ipython",
    "version": 3
   },
   "file_extension": ".py",
   "mimetype": "text/x-python",
   "name": "python",
   "nbconvert_exporter": "python",
   "pygments_lexer": "ipython3",
   "version": "3.9.12"
  }
 },
 "nbformat": 4,
 "nbformat_minor": 5
}
